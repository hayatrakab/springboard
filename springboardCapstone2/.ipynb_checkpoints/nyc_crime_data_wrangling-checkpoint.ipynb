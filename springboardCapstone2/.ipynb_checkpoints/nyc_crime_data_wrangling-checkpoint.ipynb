{
 "cells": [
  {
   "cell_type": "code",
   "execution_count": 259,
   "id": "826f43c5",
   "metadata": {},
   "outputs": [],
   "source": [
    "import pandas as pd\n",
    "\n"
   ]
  },
  {
   "cell_type": "code",
   "execution_count": 260,
   "id": "42dc28c0",
   "metadata": {},
   "outputs": [],
   "source": [
    "df = pd.read_csv('NYPD_Arrest_Data__Year_to_Date__20231111.csv')\n",
    "pd.set_option('display.max_rows', None)\n"
   ]
  },
  {
   "cell_type": "code",
   "execution_count": 261,
   "id": "6f372b38",
   "metadata": {},
   "outputs": [
    {
     "data": {
      "text/html": [
       "<div>\n",
       "<style scoped>\n",
       "    .dataframe tbody tr th:only-of-type {\n",
       "        vertical-align: middle;\n",
       "    }\n",
       "\n",
       "    .dataframe tbody tr th {\n",
       "        vertical-align: top;\n",
       "    }\n",
       "\n",
       "    .dataframe thead th {\n",
       "        text-align: right;\n",
       "    }\n",
       "</style>\n",
       "<table border=\"1\" class=\"dataframe\">\n",
       "  <thead>\n",
       "    <tr style=\"text-align: right;\">\n",
       "      <th></th>\n",
       "      <th>ARREST_KEY</th>\n",
       "      <th>ARREST_DATE</th>\n",
       "      <th>PD_CD</th>\n",
       "      <th>PD_DESC</th>\n",
       "      <th>KY_CD</th>\n",
       "      <th>OFNS_DESC</th>\n",
       "      <th>LAW_CODE</th>\n",
       "      <th>LAW_CAT_CD</th>\n",
       "      <th>ARREST_BORO</th>\n",
       "      <th>ARREST_PRECINCT</th>\n",
       "      <th>JURISDICTION_CODE</th>\n",
       "      <th>AGE_GROUP</th>\n",
       "      <th>PERP_SEX</th>\n",
       "      <th>PERP_RACE</th>\n",
       "      <th>X_COORD_CD</th>\n",
       "      <th>Y_COORD_CD</th>\n",
       "      <th>Latitude</th>\n",
       "      <th>Longitude</th>\n",
       "      <th>New Georeferenced Column</th>\n",
       "    </tr>\n",
       "  </thead>\n",
       "  <tbody>\n",
       "    <tr>\n",
       "      <th>0</th>\n",
       "      <td>261209118</td>\n",
       "      <td>01/01/2023</td>\n",
       "      <td>109</td>\n",
       "      <td>ASSAULT 2,1,UNCLASSIFIED</td>\n",
       "      <td>106.0</td>\n",
       "      <td>FELONY ASSAULT</td>\n",
       "      <td>PL 1200501</td>\n",
       "      <td>F</td>\n",
       "      <td>K</td>\n",
       "      <td>77</td>\n",
       "      <td>0</td>\n",
       "      <td>45-64</td>\n",
       "      <td>F</td>\n",
       "      <td>BLACK</td>\n",
       "      <td>999335</td>\n",
       "      <td>186085</td>\n",
       "      <td>40.677426</td>\n",
       "      <td>-73.945615</td>\n",
       "      <td>POINT (-73.945615 40.677426)</td>\n",
       "    </tr>\n",
       "    <tr>\n",
       "      <th>1</th>\n",
       "      <td>262984267</td>\n",
       "      <td>02/03/2023</td>\n",
       "      <td>515</td>\n",
       "      <td>CONTROLLED SUBSTANCE,SALE 3</td>\n",
       "      <td>117.0</td>\n",
       "      <td>DANGEROUS DRUGS</td>\n",
       "      <td>PL 2203901</td>\n",
       "      <td>F</td>\n",
       "      <td>K</td>\n",
       "      <td>73</td>\n",
       "      <td>0</td>\n",
       "      <td>25-44</td>\n",
       "      <td>M</td>\n",
       "      <td>BLACK</td>\n",
       "      <td>1009318</td>\n",
       "      <td>178259</td>\n",
       "      <td>40.655923</td>\n",
       "      <td>-73.909650</td>\n",
       "      <td>POINT (-73.90965 40.655923)</td>\n",
       "    </tr>\n",
       "    <tr>\n",
       "      <th>2</th>\n",
       "      <td>263664549</td>\n",
       "      <td>02/15/2023</td>\n",
       "      <td>105</td>\n",
       "      <td>STRANGULATION 1ST</td>\n",
       "      <td>106.0</td>\n",
       "      <td>FELONY ASSAULT</td>\n",
       "      <td>PL 1211200</td>\n",
       "      <td>F</td>\n",
       "      <td>K</td>\n",
       "      <td>62</td>\n",
       "      <td>0</td>\n",
       "      <td>25-44</td>\n",
       "      <td>M</td>\n",
       "      <td>WHITE</td>\n",
       "      <td>982272</td>\n",
       "      <td>158771</td>\n",
       "      <td>40.602468</td>\n",
       "      <td>-74.007120</td>\n",
       "      <td>POINT (-74.00712 40.602468)</td>\n",
       "    </tr>\n",
       "    <tr>\n",
       "      <th>3</th>\n",
       "      <td>261345231</td>\n",
       "      <td>01/04/2023</td>\n",
       "      <td>105</td>\n",
       "      <td>STRANGULATION 1ST</td>\n",
       "      <td>106.0</td>\n",
       "      <td>FELONY ASSAULT</td>\n",
       "      <td>PL 1211200</td>\n",
       "      <td>F</td>\n",
       "      <td>M</td>\n",
       "      <td>32</td>\n",
       "      <td>0</td>\n",
       "      <td>25-44</td>\n",
       "      <td>M</td>\n",
       "      <td>BLACK</td>\n",
       "      <td>999899</td>\n",
       "      <td>238684</td>\n",
       "      <td>40.821797</td>\n",
       "      <td>-73.943457</td>\n",
       "      <td>POINT (-73.943457 40.821797)</td>\n",
       "    </tr>\n",
       "    <tr>\n",
       "      <th>4</th>\n",
       "      <td>263536618</td>\n",
       "      <td>02/13/2023</td>\n",
       "      <td>109</td>\n",
       "      <td>ASSAULT 2,1,UNCLASSIFIED</td>\n",
       "      <td>106.0</td>\n",
       "      <td>FELONY ASSAULT</td>\n",
       "      <td>PL 12005WX</td>\n",
       "      <td>F</td>\n",
       "      <td>K</td>\n",
       "      <td>71</td>\n",
       "      <td>0</td>\n",
       "      <td>25-44</td>\n",
       "      <td>M</td>\n",
       "      <td>BLACK</td>\n",
       "      <td>1001437</td>\n",
       "      <td>183080</td>\n",
       "      <td>40.669175</td>\n",
       "      <td>-73.938042</td>\n",
       "      <td>POINT (-73.938042 40.669175)</td>\n",
       "    </tr>\n",
       "  </tbody>\n",
       "</table>\n",
       "</div>"
      ],
      "text/plain": [
       "   ARREST_KEY ARREST_DATE  PD_CD                      PD_DESC  KY_CD  \\\n",
       "0   261209118  01/01/2023    109     ASSAULT 2,1,UNCLASSIFIED  106.0   \n",
       "1   262984267  02/03/2023    515  CONTROLLED SUBSTANCE,SALE 3  117.0   \n",
       "2   263664549  02/15/2023    105            STRANGULATION 1ST  106.0   \n",
       "3   261345231  01/04/2023    105            STRANGULATION 1ST  106.0   \n",
       "4   263536618  02/13/2023    109     ASSAULT 2,1,UNCLASSIFIED  106.0   \n",
       "\n",
       "         OFNS_DESC    LAW_CODE LAW_CAT_CD ARREST_BORO  ARREST_PRECINCT  \\\n",
       "0   FELONY ASSAULT  PL 1200501          F           K               77   \n",
       "1  DANGEROUS DRUGS  PL 2203901          F           K               73   \n",
       "2   FELONY ASSAULT  PL 1211200          F           K               62   \n",
       "3   FELONY ASSAULT  PL 1211200          F           M               32   \n",
       "4   FELONY ASSAULT  PL 12005WX          F           K               71   \n",
       "\n",
       "   JURISDICTION_CODE AGE_GROUP PERP_SEX PERP_RACE  X_COORD_CD  Y_COORD_CD  \\\n",
       "0                  0     45-64        F     BLACK      999335      186085   \n",
       "1                  0     25-44        M     BLACK     1009318      178259   \n",
       "2                  0     25-44        M     WHITE      982272      158771   \n",
       "3                  0     25-44        M     BLACK      999899      238684   \n",
       "4                  0     25-44        M     BLACK     1001437      183080   \n",
       "\n",
       "    Latitude  Longitude      New Georeferenced Column  \n",
       "0  40.677426 -73.945615  POINT (-73.945615 40.677426)  \n",
       "1  40.655923 -73.909650   POINT (-73.90965 40.655923)  \n",
       "2  40.602468 -74.007120   POINT (-74.00712 40.602468)  \n",
       "3  40.821797 -73.943457  POINT (-73.943457 40.821797)  \n",
       "4  40.669175 -73.938042  POINT (-73.938042 40.669175)  "
      ]
     },
     "execution_count": 261,
     "metadata": {},
     "output_type": "execute_result"
    }
   ],
   "source": [
    "df.head()"
   ]
  },
  {
   "cell_type": "code",
   "execution_count": 262,
   "id": "0b14ea24",
   "metadata": {},
   "outputs": [
    {
     "data": {
      "text/plain": [
       "Index(['ARREST_KEY', 'ARREST_DATE', 'PD_CD', 'PD_DESC', 'KY_CD', 'OFNS_DESC',\n",
       "       'LAW_CODE', 'LAW_CAT_CD', 'ARREST_BORO', 'ARREST_PRECINCT',\n",
       "       'JURISDICTION_CODE', 'AGE_GROUP', 'PERP_SEX', 'PERP_RACE', 'X_COORD_CD',\n",
       "       'Y_COORD_CD', 'Latitude', 'Longitude', 'New Georeferenced Column'],\n",
       "      dtype='object')"
      ]
     },
     "execution_count": 262,
     "metadata": {},
     "output_type": "execute_result"
    }
   ],
   "source": [
    "df.columns"
   ]
  },
  {
   "cell_type": "code",
   "execution_count": 263,
   "id": "d1d5053a",
   "metadata": {},
   "outputs": [
    {
     "name": "stdout",
     "output_type": "stream",
     "text": [
      "ARREST_KEY                     0\n",
      "ARREST_DATE                    0\n",
      "PD_CD                          0\n",
      "PD_DESC                        0\n",
      "KY_CD                         13\n",
      "OFNS_DESC                      0\n",
      "LAW_CODE                       0\n",
      "LAW_CAT_CD                  1257\n",
      "ARREST_BORO                    0\n",
      "ARREST_PRECINCT                0\n",
      "JURISDICTION_CODE              0\n",
      "AGE_GROUP                      0\n",
      "PERP_SEX                       0\n",
      "PERP_RACE                      0\n",
      "X_COORD_CD                     0\n",
      "Y_COORD_CD                     0\n",
      "Latitude                       0\n",
      "Longitude                      0\n",
      "New Georeferenced Column       0\n",
      "dtype: int64\n",
      "['F' 'M' 'V' nan '9' 'I']\n"
     ]
    }
   ],
   "source": [
    "# checking missing values and potential reasons (13 missing in KY_CD, )(1257 in LAW_CAT_CD)\n",
    "print(df.isnull().sum())\n",
    "print(df['LAW_CAT_CD'].unique())\n",
    "\n",
    "\n",
    "\n",
    "\n",
    "\n"
   ]
  },
  {
   "cell_type": "code",
   "execution_count": 265,
   "id": "3add2d18",
   "metadata": {},
   "outputs": [],
   "source": [
    "# only filtering for more serious/violent crimes (Felonies)\n",
    "df = df[df['LAW_CAT_CD']=='F']"
   ]
  },
  {
   "cell_type": "code",
   "execution_count": 266,
   "id": "821192bd",
   "metadata": {},
   "outputs": [
    {
     "data": {
      "text/plain": [
       "ARREST_KEY                   0\n",
       "ARREST_DATE                  0\n",
       "PD_CD                        0\n",
       "PD_DESC                      0\n",
       "KY_CD                       13\n",
       "OFNS_DESC                    0\n",
       "LAW_CODE                     0\n",
       "LAW_CAT_CD                   0\n",
       "ARREST_BORO                  0\n",
       "ARREST_PRECINCT              0\n",
       "JURISDICTION_CODE            0\n",
       "AGE_GROUP                    0\n",
       "PERP_SEX                     0\n",
       "PERP_RACE                    0\n",
       "X_COORD_CD                   0\n",
       "Y_COORD_CD                   0\n",
       "Latitude                     0\n",
       "Longitude                    0\n",
       "New Georeferenced Column     0\n",
       "dtype: int64"
      ]
     },
     "execution_count": 266,
     "metadata": {},
     "output_type": "execute_result"
    }
   ],
   "source": [
    "# re-checking missing rows\n",
    "df.isnull().sum()"
   ]
  },
  {
   "cell_type": "code",
   "execution_count": 267,
   "id": "e0a2d0d9",
   "metadata": {},
   "outputs": [
    {
     "data": {
      "text/plain": [
       "(73866, 19)"
      ]
     },
     "execution_count": 267,
     "metadata": {},
     "output_type": "execute_result"
    }
   ],
   "source": [
    "# checking new datafra\n",
    "df.shape"
   ]
  },
  {
   "cell_type": "code",
   "execution_count": 268,
   "id": "b0ecb31f",
   "metadata": {},
   "outputs": [],
   "source": [
    "# only 13 missing rows of 73,866 rows so lets drop them\n",
    "df.dropna(inplace=True)"
   ]
  },
  {
   "cell_type": "code",
   "execution_count": 269,
   "id": "d4a4e6fc",
   "metadata": {},
   "outputs": [
    {
     "data": {
      "text/plain": [
       "ARREST_KEY                  False\n",
       "ARREST_DATE                 False\n",
       "PD_CD                       False\n",
       "PD_DESC                     False\n",
       "KY_CD                       False\n",
       "OFNS_DESC                   False\n",
       "LAW_CODE                    False\n",
       "LAW_CAT_CD                  False\n",
       "ARREST_BORO                 False\n",
       "ARREST_PRECINCT             False\n",
       "JURISDICTION_CODE           False\n",
       "AGE_GROUP                   False\n",
       "PERP_SEX                    False\n",
       "PERP_RACE                   False\n",
       "X_COORD_CD                  False\n",
       "Y_COORD_CD                  False\n",
       "Latitude                    False\n",
       "Longitude                   False\n",
       "New Georeferenced Column    False\n",
       "dtype: bool"
      ]
     },
     "execution_count": 269,
     "metadata": {},
     "output_type": "execute_result"
    }
   ],
   "source": [
    "# re checking all columns have no missing values\n",
    "df.isna().any()\n"
   ]
  },
  {
   "cell_type": "code",
   "execution_count": 270,
   "id": "65c69bb0",
   "metadata": {},
   "outputs": [],
   "source": [
    "# dropping irrelevant columns\n",
    "\n",
    "df = df.drop(columns = ['ARREST_KEY','PD_CD','LAW_CODE','KY_CD','LAW_CAT_CD','ARREST_PRECINCT','JURISDICTION_CODE','X_COORD_CD','Y_COORD_CD','New Georeferenced Column'])\n",
    "\n"
   ]
  },
  {
   "cell_type": "code",
   "execution_count": 271,
   "id": "b94798a6",
   "metadata": {},
   "outputs": [
    {
     "data": {
      "text/html": [
       "<div>\n",
       "<style scoped>\n",
       "    .dataframe tbody tr th:only-of-type {\n",
       "        vertical-align: middle;\n",
       "    }\n",
       "\n",
       "    .dataframe tbody tr th {\n",
       "        vertical-align: top;\n",
       "    }\n",
       "\n",
       "    .dataframe thead th {\n",
       "        text-align: right;\n",
       "    }\n",
       "</style>\n",
       "<table border=\"1\" class=\"dataframe\">\n",
       "  <thead>\n",
       "    <tr style=\"text-align: right;\">\n",
       "      <th></th>\n",
       "      <th>ARREST_DATE</th>\n",
       "      <th>PD_DESC</th>\n",
       "      <th>OFNS_DESC</th>\n",
       "      <th>ARREST_BORO</th>\n",
       "      <th>AGE_GROUP</th>\n",
       "      <th>PERP_SEX</th>\n",
       "      <th>PERP_RACE</th>\n",
       "      <th>Latitude</th>\n",
       "      <th>Longitude</th>\n",
       "    </tr>\n",
       "  </thead>\n",
       "  <tbody>\n",
       "    <tr>\n",
       "      <th>0</th>\n",
       "      <td>01/01/2023</td>\n",
       "      <td>ASSAULT 2,1,UNCLASSIFIED</td>\n",
       "      <td>FELONY ASSAULT</td>\n",
       "      <td>K</td>\n",
       "      <td>45-64</td>\n",
       "      <td>F</td>\n",
       "      <td>BLACK</td>\n",
       "      <td>40.677426</td>\n",
       "      <td>-73.945615</td>\n",
       "    </tr>\n",
       "    <tr>\n",
       "      <th>1</th>\n",
       "      <td>02/03/2023</td>\n",
       "      <td>CONTROLLED SUBSTANCE,SALE 3</td>\n",
       "      <td>DANGEROUS DRUGS</td>\n",
       "      <td>K</td>\n",
       "      <td>25-44</td>\n",
       "      <td>M</td>\n",
       "      <td>BLACK</td>\n",
       "      <td>40.655923</td>\n",
       "      <td>-73.909650</td>\n",
       "    </tr>\n",
       "    <tr>\n",
       "      <th>2</th>\n",
       "      <td>02/15/2023</td>\n",
       "      <td>STRANGULATION 1ST</td>\n",
       "      <td>FELONY ASSAULT</td>\n",
       "      <td>K</td>\n",
       "      <td>25-44</td>\n",
       "      <td>M</td>\n",
       "      <td>WHITE</td>\n",
       "      <td>40.602468</td>\n",
       "      <td>-74.007120</td>\n",
       "    </tr>\n",
       "    <tr>\n",
       "      <th>3</th>\n",
       "      <td>01/04/2023</td>\n",
       "      <td>STRANGULATION 1ST</td>\n",
       "      <td>FELONY ASSAULT</td>\n",
       "      <td>M</td>\n",
       "      <td>25-44</td>\n",
       "      <td>M</td>\n",
       "      <td>BLACK</td>\n",
       "      <td>40.821797</td>\n",
       "      <td>-73.943457</td>\n",
       "    </tr>\n",
       "    <tr>\n",
       "      <th>4</th>\n",
       "      <td>02/13/2023</td>\n",
       "      <td>ASSAULT 2,1,UNCLASSIFIED</td>\n",
       "      <td>FELONY ASSAULT</td>\n",
       "      <td>K</td>\n",
       "      <td>25-44</td>\n",
       "      <td>M</td>\n",
       "      <td>BLACK</td>\n",
       "      <td>40.669175</td>\n",
       "      <td>-73.938042</td>\n",
       "    </tr>\n",
       "  </tbody>\n",
       "</table>\n",
       "</div>"
      ],
      "text/plain": [
       "  ARREST_DATE                      PD_DESC        OFNS_DESC ARREST_BORO  \\\n",
       "0  01/01/2023     ASSAULT 2,1,UNCLASSIFIED   FELONY ASSAULT           K   \n",
       "1  02/03/2023  CONTROLLED SUBSTANCE,SALE 3  DANGEROUS DRUGS           K   \n",
       "2  02/15/2023            STRANGULATION 1ST   FELONY ASSAULT           K   \n",
       "3  01/04/2023            STRANGULATION 1ST   FELONY ASSAULT           M   \n",
       "4  02/13/2023     ASSAULT 2,1,UNCLASSIFIED   FELONY ASSAULT           K   \n",
       "\n",
       "  AGE_GROUP PERP_SEX PERP_RACE   Latitude  Longitude  \n",
       "0     45-64        F     BLACK  40.677426 -73.945615  \n",
       "1     25-44        M     BLACK  40.655923 -73.909650  \n",
       "2     25-44        M     WHITE  40.602468 -74.007120  \n",
       "3     25-44        M     BLACK  40.821797 -73.943457  \n",
       "4     25-44        M     BLACK  40.669175 -73.938042  "
      ]
     },
     "execution_count": 271,
     "metadata": {},
     "output_type": "execute_result"
    }
   ],
   "source": [
    "df.head()"
   ]
  },
  {
   "cell_type": "code",
   "execution_count": 272,
   "id": "b00e4d0e",
   "metadata": {},
   "outputs": [
    {
     "data": {
      "text/plain": [
       "ARREST_DATE     object\n",
       "PD_DESC         object\n",
       "OFNS_DESC       object\n",
       "ARREST_BORO     object\n",
       "AGE_GROUP       object\n",
       "PERP_SEX        object\n",
       "PERP_RACE       object\n",
       "Latitude       float64\n",
       "Longitude      float64\n",
       "dtype: object"
      ]
     },
     "execution_count": 272,
     "metadata": {},
     "output_type": "execute_result"
    }
   ],
   "source": [
    "df.dtypes"
   ]
  },
  {
   "cell_type": "code",
   "execution_count": 273,
   "id": "350f058b",
   "metadata": {},
   "outputs": [
    {
     "data": {
      "text/plain": [
       "array(['45-64', '25-44', '<18', '65+', '18-24'], dtype=object)"
      ]
     },
     "execution_count": 273,
     "metadata": {},
     "output_type": "execute_result"
    }
   ],
   "source": [
    "df['ARREST_DATE'] = pd.to_datetime(df['ARREST_DATE'])\n",
    "df['ARREST_BORO'] = df['ARREST_BORO'].astype('category')\n",
    "df['AGE_GROUP'] = df['AGE_GROUP'].astype('category')\n",
    "df['PERP_SEX'] = df['PERP_SEX'].astype('category')\n",
    "df['PERP_RACE'] = df['PERP_RACE'].astype('category')\n",
    "\n",
    "\n",
    "\n"
   ]
  },
  {
   "cell_type": "code",
   "execution_count": 257,
   "id": "bcf0097f",
   "metadata": {},
   "outputs": [
    {
     "data": {
      "text/html": [
       "<div>\n",
       "<style scoped>\n",
       "    .dataframe tbody tr th:only-of-type {\n",
       "        vertical-align: middle;\n",
       "    }\n",
       "\n",
       "    .dataframe tbody tr th {\n",
       "        vertical-align: top;\n",
       "    }\n",
       "\n",
       "    .dataframe thead th {\n",
       "        text-align: right;\n",
       "    }\n",
       "</style>\n",
       "<table border=\"1\" class=\"dataframe\">\n",
       "  <thead>\n",
       "    <tr style=\"text-align: right;\">\n",
       "      <th></th>\n",
       "      <th>ARREST_KEY</th>\n",
       "      <th>ARREST_DATE</th>\n",
       "      <th>PD_DESC</th>\n",
       "      <th>OFNS_DESC</th>\n",
       "      <th>ARREST_BORO</th>\n",
       "      <th>AGE_GROUP</th>\n",
       "      <th>PERP_SEX</th>\n",
       "      <th>PERP_RACE</th>\n",
       "      <th>Latitude</th>\n",
       "      <th>Longitude</th>\n",
       "    </tr>\n",
       "  </thead>\n",
       "  <tbody>\n",
       "  </tbody>\n",
       "</table>\n",
       "</div>"
      ],
      "text/plain": [
       "Empty DataFrame\n",
       "Columns: [ARREST_KEY, ARREST_DATE, PD_DESC, OFNS_DESC, ARREST_BORO, AGE_GROUP, PERP_SEX, PERP_RACE, Latitude, Longitude]\n",
       "Index: []"
      ]
     },
     "execution_count": 257,
     "metadata": {},
     "output_type": "execute_result"
    }
   ],
   "source": []
  },
  {
   "cell_type": "code",
   "execution_count": null,
   "id": "da835e34",
   "metadata": {},
   "outputs": [],
   "source": []
  }
 ],
 "metadata": {
  "kernelspec": {
   "display_name": "Python 3 (ipykernel)",
   "language": "python",
   "name": "python3"
  },
  "language_info": {
   "codemirror_mode": {
    "name": "ipython",
    "version": 3
   },
   "file_extension": ".py",
   "mimetype": "text/x-python",
   "name": "python",
   "nbconvert_exporter": "python",
   "pygments_lexer": "ipython3",
   "version": "3.11.4"
  }
 },
 "nbformat": 4,
 "nbformat_minor": 5
}
